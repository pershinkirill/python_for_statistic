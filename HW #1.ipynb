{
 "cells": [
  {
   "cell_type": "markdown",
   "id": "d82ca00a",
   "metadata": {},
   "source": [
    "# Home work #1"
   ]
  },
  {
   "cell_type": "markdown",
   "id": "e0dd23ae",
   "metadata": {},
   "source": [
    "## Task#1\n",
    "На складе лежат разные фрукты в разном количестве.\n",
    "Нужно написать функцию, которая на вход принимает любое количество названий фруктов и их количество, а возвращает общее количество фруктов на складе\n"
   ]
  },
  {
   "cell_type": "code",
   "execution_count": 5,
   "id": "c13abf11",
   "metadata": {},
   "outputs": [],
   "source": [
    "def fruit_counter(d=dict) ->int:\n",
    "    total = sum(d[x] for x in d)\n",
    "    return total"
   ]
  },
  {
   "cell_type": "markdown",
   "id": "205aabad",
   "metadata": {},
   "source": [
    "Проверка:"
   ]
  },
  {
   "cell_type": "code",
   "execution_count": 8,
   "id": "8550e16d",
   "metadata": {},
   "outputs": [
    {
     "data": {
      "text/plain": [
       "21"
      ]
     },
     "execution_count": 8,
     "metadata": {},
     "output_type": "execute_result"
    }
   ],
   "source": [
    "fruits = {'apple': 5, 'orange': 6, 'pinaple': 7, 'watermelon': 3}\n",
    "\n",
    "fruit_counter(fruits)"
   ]
  },
  {
   "cell_type": "markdown",
   "id": "47396e10",
   "metadata": {},
   "source": [
    "## Task#2"
   ]
  },
  {
   "cell_type": "markdown",
   "id": "906157d5",
   "metadata": {},
   "source": [
    "Дан список с затратами на рекламу. Но в данных есть ошибки, некоторые затраты имеют отрицательную величину. Удалите такие значения из списка и посчитайте суммарные затраты\n",
    "**[100, 125, -90, 345, 655, -1, 0, 200]**. Используйте list comprehensions"
   ]
  },
  {
   "cell_type": "code",
   "execution_count": 9,
   "id": "64a4286c",
   "metadata": {},
   "outputs": [
    {
     "data": {
      "text/plain": [
       "[100, 125, 345, 655, 0, 200]"
      ]
     },
     "execution_count": 9,
     "metadata": {},
     "output_type": "execute_result"
    }
   ],
   "source": [
    "lst = [100, 125, -90, 345, 655, -1, 0, 200]\n",
    "\n",
    "def correction(l = list) -> list:\n",
    "    result = [i for i in l if i >= 0]\n",
    "    return result\n",
    "\n",
    "correction(lst)"
   ]
  },
  {
   "cell_type": "markdown",
   "id": "14c2df8d",
   "metadata": {},
   "source": [
    "## Task#3"
   ]
  },
  {
   "cell_type": "markdown",
   "id": "920c0bdc",
   "metadata": {},
   "source": [
    "Даны два списка.\n",
    "Дата покупки:\n",
    "\n",
    "**['2021-09-14', '2021-12-15', '2021-09-08', '2021-12-05', '2021-10-09', '2021-09-30', '2021-12-22', '2021-11-29', '2021-12-24', '2021-11-26', '2021-10-27', '2021-12-18', '2021-11-09', '2021-11-23', '2021-09-27', '2021-10-02', '2021-12-27', '2021-09-20', '2021-12-13', '2021-11-01', '2021-11-09', '2021-12-06', '2021-12-08', '2021-10-09', '2021-10-31', '2021-09-30', '2021-11-09', '2021-12-13', '2021-10-26', '2021-12-09']**\n",
    "\n",
    "Суммы покупок по датам:\n",
    "\n",
    "**[1270, 8413, 9028, 3703, 5739, 4095, 295, 4944, 5723, 3701, 4471, 651, 7037, 4274, 6275, 4988, 6930, 2971, 6592, 2004, 2822, 519, 3406, 2732, 5015, 2008, 316, 6333, 5700, 2887]**\n",
    "\n"
   ]
  },
  {
   "cell_type": "markdown",
   "id": "de650a8a",
   "metadata": {},
   "source": [
    "3.1 Найдите, какая выручка у компании в ноябре Используйте list comprehensions"
   ]
  },
  {
   "cell_type": "code",
   "execution_count": 28,
   "id": "a62cb828",
   "metadata": {},
   "outputs": [
    {
     "name": "stdout",
     "output_type": "stream",
     "text": [
      "25098\n"
     ]
    }
   ],
   "source": [
    "dates = ['2021-09-14', '2021-12-15', '2021-09-08', '2021-12-05', '2021-10-09', '2021-09-30', '2021-12-22', '2021-11-29', '2021-12-24', '2021-11-26', '2021-10-27', '2021-12-18', '2021-11-09', '2021-11-23', '2021-09-27', '2021-10-02', '2021-12-27', '2021-09-20', '2021-12-13', '2021-11-01', '2021-11-09', '2021-12-06', '2021-12-08', '2021-10-09', '2021-10-31', '2021-09-30', '2021-11-09', '2021-12-13', '2021-10-26', '2021-12-09']\n",
    "summs = [1270, 8413, 9028, 3703, 5739, 4095, 295, 4944, 5723, 3701, 4471, 651, 7037, 4274, 6275, 4988, 6930, 2971, 6592, 2004, 2822, 519, 3406, 2732, 5015, 2008, 316, 6333, 5700, 2887]\n",
    "months = [i.split('-')[1] for i in dates]\n",
    "\n",
    "result = [summs[i] for i in range(len(dates)) if dates[i][5:7] == '11']\n",
    "print(sum(result))"
   ]
  },
  {
   "cell_type": "markdown",
   "id": "8190e18a",
   "metadata": {},
   "source": [
    "3.2 Найдите выручку компании в зависимости от месяца\n",
    "Для этого напишите функцию, которая на вход принимает список с датами и список с выручкой, а на выходе словарь, где ключи - это месяцы, а значения - это выручка.\n",
    "Используйте аннотирование типов.\n"
   ]
  },
  {
   "cell_type": "code",
   "execution_count": 35,
   "id": "6cc2cd9f",
   "metadata": {},
   "outputs": [
    {
     "name": "stdout",
     "output_type": "stream",
     "text": [
      "{'09': 25647, '12': 45452, '10': 28645, '11': 25098}\n"
     ]
    }
   ],
   "source": [
    "def dict_maker(date: list, amount: list) -> dict:\n",
    "    revenue_by_month = {}\n",
    "    for i in range(len(dates)):\n",
    "        month = dates[i][5:7]\n",
    "        if month not in revenue_by_month:\n",
    "            revenue_by_month[month] = amount[i]\n",
    "        else:\n",
    "            revenue_by_month[month] += amount[i]\n",
    "    return revenue_by_month\n",
    "\n",
    "print(dict_maker(months, summs))"
   ]
  }
 ],
 "metadata": {
  "kernelspec": {
   "display_name": "Python 3 (ipykernel)",
   "language": "python",
   "name": "python3"
  },
  "language_info": {
   "codemirror_mode": {
    "name": "ipython",
    "version": 3
   },
   "file_extension": ".py",
   "mimetype": "text/x-python",
   "name": "python",
   "nbconvert_exporter": "python",
   "pygments_lexer": "ipython3",
   "version": "3.9.12"
  }
 },
 "nbformat": 4,
 "nbformat_minor": 5
}
